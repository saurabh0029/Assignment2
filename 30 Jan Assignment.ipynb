{
 "cells": [
  {
   "cell_type": "code",
   "execution_count": null,
   "id": "0307e8b1-d63d-4c84-98be-f6df602f790e",
   "metadata": {},
   "outputs": [],
   "source": [
    "Assignment 2"
   ]
  },
  {
   "cell_type": "code",
   "execution_count": null,
   "id": "95490724-ae66-4e24-8d4b-bc25778710f6",
   "metadata": {},
   "outputs": [],
   "source": [
    "Q1. Write a program to accept percentage from the user display the grade according to the following criteria:\n",
    "    \n",
    "Ans:-\n",
    "\n",
    "marks=int(input(\"Enter Marks :-\"))\n",
    "\n",
    "if marks>90:\n",
    "    print(\"Grade A\")\n",
    "elif marks>80 and marks<=90:\n",
    "    print(\"Grade B\")\n",
    "elif marks>=60 and marks<=80:\n",
    "    print(\"Grade C\")\n",
    "else:\n",
    "    print(\"Grade D\")"
   ]
  },
  {
   "cell_type": "code",
   "execution_count": null,
   "id": "8bc7db2f-109e-4ce3-9da1-452ee11191f6",
   "metadata": {},
   "outputs": [],
   "source": [
    "Q2. Write a program to accept the cost price of a bike and display the road tax to be paid according to the following criteria:\n",
    "    \n",
    "Ans:-\n",
    "\n",
    "cost_of_bike=int(input(\"Enter the cost price of bike:-\"))\n",
    "\n",
    "if cost_of_bike > 100000:\n",
    "    tax=cost_of_bike*15/100\n",
    "    print(\"Road tax =\",tax)\n",
    "elif cost_of_bike >50000 and cost_of_bike <=100000:\n",
    "    tax=cost_of_bike*10/100\n",
    "    print(\"Road tax =\",tax)\n",
    "else:\n",
    "    tax=cost_of_bike*5/100\n",
    "    print(\"Road tax =\",tax)"
   ]
  },
  {
   "cell_type": "code",
   "execution_count": null,
   "id": "686899d4-0a3c-45b3-b250-85e1ec9518ec",
   "metadata": {},
   "outputs": [],
   "source": [
    "Q3. Accept any city from the user and display monuments of that city.\n",
    "\n",
    "Ans:-\n",
    "\n",
    "city=input(\"Enter City\")\n",
    "\n",
    "if city==\"Delhi\":\n",
    "    print(\"Red Fort\")\n",
    "elif city==\"Agra\":\n",
    "    print(\"Taj Mahal\")\n",
    "elif city==\"Jaipur\":\n",
    "    print(\"Jai Mahal\")"
   ]
  },
  {
   "cell_type": "code",
   "execution_count": null,
   "id": "c2b93ad0-ae2a-4f15-bbd3-a769fe23a597",
   "metadata": {},
   "outputs": [],
   "source": [
    "Q4. Check how many times a given number can be divided by 3 before it is less than or equal to 10.\n",
    "\n",
    "Ans:-\n",
    "\n",
    "count=0\n",
    "n=int(input(\"Enter a Number\"))\n",
    "\n",
    "while n>=10:\n",
    "    count=count+1\n",
    "    n=n/3\n",
    "print(count,\"times can be divided by 3 before it is less than or equal to 10.\")"
   ]
  },
  {
   "cell_type": "code",
   "execution_count": null,
   "id": "62b0b602-c18c-4d5a-90fb-90c93c1ded04",
   "metadata": {},
   "outputs": [],
   "source": [
    "Q5. Why and When to use while loop in python give a detailed description with example.\n",
    "\n",
    "Ans:-\n",
    "\n",
    "Actully,While Loop in python is used to execute a block of statements repeatedly until a given condition is satisfied\n",
    "and when the condition becomes false, the line immediately after the loop in the program is executed.\n",
    "\n",
    "And the while loop is used when it is impossible to determine the exact number of loop iterations in advance.\n",
    "\n",
    "\n",
    "for example \n",
    "\n",
    "Check how many times a given number can be divided by 3 before it is less than or equal to 10\n",
    "\n",
    "In this example we don't have any idea , how many time will the loop execute.\n",
    "In this case we should use while loop and we already solved this example as  Q4\n"
   ]
  },
  {
   "cell_type": "code",
   "execution_count": null,
   "id": "af409972-199f-454c-8d65-351057cca845",
   "metadata": {},
   "outputs": [],
   "source": [
    "Q6. Use nested while loop to print 3 different pattern.\n",
    "\n",
    "Ans:-\n",
    "# 1st\n",
    "n = int(input(\"Enter number of rows:- \"))\n",
    " \n",
    "i = 1\n",
    "while i <= n :\n",
    "    j = 1\n",
    "    while j <= i:\n",
    "        print(\"*\", end = \" \")\n",
    "        j =j+1\n",
    "    print()\n",
    "    i =i+1\n",
    "    \n",
    "# 2nd \n",
    "n = int(input(\"Enter number of rows :-\"))\n",
    " \n",
    "i = 1\n",
    "while i <= n :\n",
    "    j = n\n",
    "    while j >= i:\n",
    "        print(\"*\", end = \" \")\n",
    "        j =j-1\n",
    "    print()\n",
    "    i =i+1\n",
    "    \n",
    "# 3rd\n",
    "\n",
    "i=1\n",
    "while i<=5:\n",
    "    j=1\n",
    "    while j<=i:\n",
    "        print(j,end=\" \")\n",
    "        j=j+1\n",
    "    print(\"\")\n",
    "    i=i+1\n"
   ]
  },
  {
   "cell_type": "code",
   "execution_count": null,
   "id": "f4e5357a-2d64-4a55-8972-341ce4852460",
   "metadata": {},
   "outputs": [],
   "source": [
    "Q7. Reverse a while loop to display numbers from 10 to 1.\n",
    "Ans:-\n",
    "i=10\n",
    "\n",
    "while i<=0:\n",
    "    print(i)\n",
    "    i=i-1"
   ]
  },
  {
   "cell_type": "code",
   "execution_count": null,
   "id": "be558a34-df01-47ef-a61b-04e7fc0c838a",
   "metadata": {},
   "outputs": [],
   "source": [
    "Q8. Reverse a while loop to display numbers from 10 to 1.\n",
    "Ans:-\n",
    "i=10\n",
    "\n",
    "while i<=0:\n",
    "    print(i)\n",
    "    i=i-1"
   ]
  }
 ],
 "metadata": {
  "kernelspec": {
   "display_name": "Python 3 (ipykernel)",
   "language": "python",
   "name": "python3"
  },
  "language_info": {
   "codemirror_mode": {
    "name": "ipython",
    "version": 3
   },
   "file_extension": ".py",
   "mimetype": "text/x-python",
   "name": "python",
   "nbconvert_exporter": "python",
   "pygments_lexer": "ipython3",
   "version": "3.10.8"
  }
 },
 "nbformat": 4,
 "nbformat_minor": 5
}
